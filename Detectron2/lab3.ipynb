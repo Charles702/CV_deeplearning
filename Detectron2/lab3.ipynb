{
  "nbformat": 4,
  "nbformat_minor": 0,
  "metadata": {
    "accelerator": "GPU",
    "colab": {
      "name": "lab3.ipynb",
      "provenance": [],
      "collapsed_sections": []
    },
    "kernelspec": {
      "display_name": "Python 3",
      "name": "python3"
    }
  },
  "cells": [
    {
      "cell_type": "markdown",
      "metadata": {
        "id": "QHnVupBBn9eR"
      },
      "source": [
        "\n",
        "# Assignment 3\n",
        "\n",
        "This is a template notebook for Assignment 3.\n"
      ]
    },
    {
      "cell_type": "markdown",
      "metadata": {
        "id": "vM54r6jlKTII"
      },
      "source": [
        "## Install dependencies and initialization"
      ]
    },
    {
      "cell_type": "code",
      "metadata": {
        "id": "9_FzH13EjseR"
      },
      "source": [
        "# install dependencies: \n",
        "!pip install pyyaml==5.1 pycocotools>=2.0.1\n",
        "#!pip install detectron2 -f https://dl.fbaipublicfiles.com/detectron2/wheels/cu101/torch1.6/index.html\n",
        "#!pip install detectron2 -f  https://dl.fbaipublicfiles.com/detectron2/wheels/cu102/torch1.8/index.html\n",
        "!pip install 'git+https://github.com/facebookresearch/detectron2.git'"
      ],
      "execution_count": null,
      "outputs": []
    },
    {
      "cell_type": "code",
      "metadata": {
        "id": "dqAUb5Y12qXt"
      },
      "source": [
        "!pwd # shows current directory\n",
        "!ls  # shows all files in this directory\n",
        "!nvidia-smi # shows the specs and the current status of the allocated GPU"
      ],
      "execution_count": null,
      "outputs": []
    },
    {
      "cell_type": "code",
      "metadata": {
        "colab": {
          "base_uri": "https://localhost:8080/"
        },
        "id": "b-i4hmGYk1dL",
        "outputId": "e39bab9e-248f-4b4f-cdee-1056c91dad5f"
      },
      "source": [
        "# import some common libraries\n",
        "from google.colab.patches import cv2_imshow\n",
        "from sklearn.metrics import jaccard_score\n",
        "from PIL import Image, ImageDraw\n",
        "from tqdm.notebook import tqdm\n",
        "import pandas as pd\n",
        "import numpy as np\n",
        "import datetime\n",
        "import random\n",
        "import json\n",
        "import cv2\n",
        "import csv\n",
        "import os\n",
        "\n",
        "# import some common pytorch utilities\n",
        "from torch.utils.data import Dataset, DataLoader\n",
        "import torchvision.transforms as transforms\n",
        "from torch.autograd import Variable\n",
        "import torch.nn.functional as F\n",
        "import torch.nn as nn\n",
        "import torch\n",
        "\n",
        "# import some common detectron2 utilities\n",
        "import detectron2\n",
        "from detectron2 import model_zoo\n",
        "from detectron2.config import get_cfg\n",
        "from detectron2.structures import BoxMode\n",
        "from detectron2.engine import DefaultTrainer\n",
        "from detectron2.engine import DefaultPredictor\n",
        "from detectron2.utils.logger import setup_logger\n",
        "from detectron2.utils.visualizer import ColorMode\n",
        "from detectron2.utils.visualizer import Visualizer\n",
        "from detectron2.data import build_detection_test_loader\n",
        "from detectron2.data import MetadataCatalog, DatasetCatalog\n",
        "from detectron2.evaluation import COCOEvaluator, inference_on_dataset\n",
        "setup_logger()"
      ],
      "execution_count": 1,
      "outputs": [
        {
          "output_type": "execute_result",
          "data": {
            "text/plain": [
              "<Logger detectron2 (DEBUG)>"
            ]
          },
          "metadata": {
            "tags": []
          },
          "execution_count": 1
        }
      ]
    },
    {
      "cell_type": "code",
      "metadata": {
        "colab": {
          "base_uri": "https://localhost:8080/"
        },
        "id": "tUA_j6AF1L5Y",
        "outputId": "54dcdeaf-7856-40ff-a48b-2508c63c01d3"
      },
      "source": [
        "import torch\n",
        "# Make sure that GPU is available for your notebook. \n",
        "# Otherwise, you need to update the settungs in Runtime -> Change runtime type -> Hardware accelerator\n",
        "torch.cuda.is_available()"
      ],
      "execution_count": null,
      "outputs": [
        {
          "output_type": "execute_result",
          "data": {
            "text/plain": [
              "True"
            ]
          },
          "metadata": {
            "tags": []
          },
          "execution_count": 2
        }
      ]
    },
    {
      "cell_type": "code",
      "metadata": {
        "colab": {
          "base_uri": "https://localhost:8080/"
        },
        "id": "ZyAvNCJMmvFF",
        "outputId": "807ad9b8-420a-4fda-9fc8-efdc521bcb53"
      },
      "source": [
        "# You need to mount your google drive in order to load the data:\n",
        "from google.colab import drive \n",
        "drive.mount('/content/drive')\n",
        "# Put all the corresponding data files in a data folder and put the data folder in a same directory with this notebook.\n",
        "# Also create an output directory for your files such as the trained models and the output images."
      ],
      "execution_count": null,
      "outputs": [
        {
          "output_type": "stream",
          "text": [
            "Mounted at /content/drive\n"
          ],
          "name": "stdout"
        }
      ]
    },
    {
      "cell_type": "code",
      "metadata": {
        "id": "A_Di_fgL4HSv"
      },
      "source": [
        "# Define the location of current directory, which should contain data/train, data/test, and data/train.json.\n",
        "# TODO: approx 1 line\n",
        "BASE_DIR = '/content/drive/My Drive/SFU_CMPT762_ComputerVision/Assignment 3'\n",
        "OUTPUT_DIR = '{}/output'.format(BASE_DIR)\n",
        "#os.removedirs(OUTPUT_DIR)\n",
        "os.makedirs(OUTPUT_DIR, exist_ok=True)"
      ],
      "execution_count": 2,
      "outputs": []
    },
    {
      "cell_type": "code",
      "metadata": {
        "id": "FyvXHuq7ovyK"
      },
      "source": [
        "OUTPUT_DIR2 = '{}/output2'.format(BASE_DIR)\r\n",
        "os.makedirs(OUTPUT_DIR2, exist_ok=True)"
      ],
      "execution_count": 3,
      "outputs": []
    },
    {
      "cell_type": "code",
      "metadata": {
        "id": "0pTRvhAF0kqB"
      },
      "source": [
        "#os.removedirs(OUTPUT_DIR)"
      ],
      "execution_count": null,
      "outputs": []
    },
    {
      "cell_type": "markdown",
      "metadata": {
        "id": "Vk4gID50K03a"
      },
      "source": [
        "## Part 1: Object Detection"
      ]
    },
    {
      "cell_type": "markdown",
      "metadata": {
        "id": "xRV-KFJzlur4"
      },
      "source": [
        "### Data Loader"
      ]
    },
    {
      "cell_type": "code",
      "metadata": {
        "id": "dq9GY37ml1kr"
      },
      "source": [
        "'''\n",
        "# This function should return a list of data samples in which each sample is a dictionary. \n",
        "# Make sure to select the correct bbox_mode for the data\n",
        "# For the test data, you only have access to the images, therefore, the annotations should be empty.\n",
        "# Other values could be obtained from the image files.\n",
        "# TODO: approx 35 lines\n",
        "'''\n",
        "from os import listdir\n",
        "# process custom dataset\n",
        "def get_detection_data(set_name):\n",
        "   data_dirs = '{}/data'.format(BASE_DIR)\n",
        "   dataset = []\n",
        "\n",
        "   if set_name == \"train\":\n",
        "      json_file = os.path.join(data_dirs, \"train.json\")\n",
        "      with open(json_file) as f:\n",
        "            #print(json_file)\n",
        "            imgs_anns = json.load(f)\n",
        "\n",
        "      dataset = []\n",
        "      for idx, ann in enumerate(imgs_anns):\n",
        "            record = {}\n",
        "\n",
        "            #detected obj\n",
        "            obj = {\n",
        "                \"bbox\": ann[\"bbox\"],\n",
        "                \"bbox_mode\": BoxMode.XYWH_ABS,\n",
        "                \"segmentation\": ann[\"segmentation\"] ,\n",
        "                \"category_id\": 0 ,\n",
        "            }  \n",
        "\n",
        "            filename = os.path.join(data_dirs, set_name, ann[\"file_name\"])\n",
        "\n",
        "            count = 0\n",
        "            while count < len(dataset):\n",
        "                if dataset[count][\"file_name\"] == filename:\n",
        "                    dataset[count][\"annotations\"].append(obj)\n",
        "                    break\n",
        "                else:\n",
        "                    count += 1 \n",
        "\n",
        "            if count == len(dataset):\n",
        "                width,height = Image.open(filename).size\n",
        "                image_id = ann[\"image_id\"]\n",
        "                record[\"file_name\"] = filename\n",
        "                record[\"image_id\"] = image_id\n",
        "                record[\"height\"] = height\n",
        "                record[\"width\"] = width\n",
        "\n",
        "                objs = []\n",
        "                objs.append(obj)\n",
        "                record[\"annotations\"] = objs\n",
        "                dataset.append(record)\n",
        "\n",
        "   if set_name == \"test\":\n",
        "      #get text files list\n",
        "       for  idx , f in enumerate(listdir(os.path.join(data_dirs, set_name))):\n",
        "            record = {}\n",
        "\n",
        "            filename = os.path.join(data_dirs,'test',f)\n",
        "            width,height = Image.open(filename).size\n",
        "\n",
        "            record[\"file_name\"] = filename\n",
        "            record[\"image_id\"] = idx\n",
        "            record[\"height\"] = height\n",
        "            record[\"width\"] = width\n",
        "\n",
        "            dataset.append(record)\n",
        "      \n",
        "   return dataset"
      ],
      "execution_count": 4,
      "outputs": []
    },
    {
      "cell_type": "code",
      "metadata": {
        "id": "xCH-2mWxDVVu"
      },
      "source": [
        "'''\n",
        "# Remember to add your dataset to DatasetCatalog and MetadataCatalog\n",
        "# Consdier \"data_detection_train\" and \"data_detection_test\" for registration\n",
        "# You can also add an optional \"data_detection_val\" for your validation by spliting the training data\n",
        "# TODO: approx 5 lines\n",
        "'''\n",
        "for d in [\"train\", \"test\"]:\n",
        "    DatasetCatalog.register(\"data_detection_\" + d, lambda d=d: get_detection_data( d ))\n",
        "    MetadataCatalog.get(\"data_detection_\" + d).set(thing_classes=[\"plane\"])\n",
        "plane_train_meta = MetadataCatalog.get(\"data_detection_train\")\n",
        "plane_test_meta = MetadataCatalog.get(\"data_detection_test\")\n"
      ],
      "execution_count": 5,
      "outputs": []
    },
    {
      "cell_type": "code",
      "metadata": {
        "id": "qNSdXCL_DVAz"
      },
      "source": [
        "'''\n",
        "# Visualize some samples using Visualizer to make sure that the function works correctly\n",
        "# TODO: approx 5 lines\n",
        "'''\n",
        "import time\n",
        "stime = time.time()\n",
        "dataset_dicts = get_detection_data(\"train\")\n",
        "for d in random.sample(dataset_dicts, 3):\n",
        "    img = cv2.imread(d[\"file_name\"])\n",
        "    visualizer = Visualizer(img[:, :, ::-1], metadata=plane_train_meta, scale=0.1)\n",
        "    out = visualizer.draw_dataset_dict(d)\n",
        "    cv2_imshow(out.get_image()[:, :, ::-1])\n",
        "\n",
        "print(\"execute time \" , time.time() - stime)"
      ],
      "execution_count": null,
      "outputs": []
    },
    {
      "cell_type": "markdown",
      "metadata": {
        "id": "uM1thbN-ntjI"
      },
      "source": [
        "### Set Configs"
      ]
    },
    {
      "cell_type": "code",
      "metadata": {
        "id": "HUjkwRsOn1O0"
      },
      "source": [
        "'''\n",
        "# Set the configs for the detection part in here.\n",
        "# TODO: approx 15 lines\n",
        "'''\n",
        "cfg = get_cfg()\n",
        "cfg.OUTPUT_DIR = \"{}/output/\".format(BASE_DIR)\n",
        "\n",
        "\n",
        "cfg.merge_from_file(model_zoo.get_config_file(\"COCO-Detection/faster_rcnn_X_101_32x8d_FPN_3x.yaml\"))\n",
        "#c   350- 0.503\n",
        "#\"COCO-Detection/faster_rcnn_R_101_FPN_3x.yaml\" --800 - 0.488 |     700-54.5%\n",
        "#COCO-Detection/retinanet_R_101_FPN_3x.yaml --600 0.397\n",
        "#COCO-Detection/rpn_R_50_FPN_1x.yaml\n",
        "\n",
        "cfg.DATASETS.TRAIN = (\"data_detection_train\")\n",
        "cfg.DATASETS.TEST = ()\n",
        "\n",
        "cfg.DATALOADER.NUM_WORKERS = 2\n",
        "\n",
        "#cfg.MODEL.WEIGHTS = model_zoo.get_checkpoint_url(\"COCO-Detection/faster_rcnn_X_101_32x8d_FPN_3x.yaml\")  # Let training initialize from model zoo\n",
        "cfg.MODEL.WEIGHTS = os.path.join(cfg.OUTPUT_DIR, \"model_final.pth\")\n",
        "#COCO-Detection/faster_rcnn_R_101_FPN_3x.yaml\n",
        "cfg.SOLVER.IMS_PER_BATCH = 2\n",
        "cfg.SOLVER.BASE_LR = 0.00025\n",
        "cfg.SOLVER.MAX_ITER = 500\n",
        "cfg.SOLVER.STEPS = [] \n",
        "\n",
        "cfg.MODEL.ROI_HEADS.BATCH_SIZE_PER_IMAGE = 512\n",
        "\n"
      ],
      "execution_count": 26,
      "outputs": []
    },
    {
      "cell_type": "markdown",
      "metadata": {
        "id": "P4rql8pNokE4"
      },
      "source": [
        "### Training"
      ]
    },
    {
      "cell_type": "code",
      "metadata": {
        "id": "EReFWKddYTI5"
      },
      "source": [
        "# customer DataLoader and define own trainer\r\n",
        "import detectron2.data.transforms as T\r\n",
        "from detectron2.data import build_detection_train_loader\r\n",
        "from detectron2.data import DatasetMapper   # the default mapper\r\n",
        "\r\n",
        "class MyTrainer(DefaultTrainer):\r\n",
        "  @classmethod\r\n",
        "  def build_train_loader(cls, cfg):\r\n",
        "      mapper =  DatasetMapper(cfg, is_train=True, augmentations=[\r\n",
        "        #T.resize((900,900)),\r\n",
        "        T.ResizeShortestEdge(1200,max_size =2000),  # orignal image too big, lead to cuda out of memory \r\n",
        "        T.RandomCrop(\"relative\",(0.7,0.7) ),\r\n",
        "        #T.ResizeShortestEdge(800,max_size =1500),\r\n",
        "        #T.RandomBrightness(0.3,1.5),\r\n",
        "        T.RandomFlip(),\r\n",
        "        #T.RandomRotation([0,360])\r\n",
        "        ])\r\n",
        "      \r\n",
        "      return build_detection_train_loader(cfg, mapper= mapper)"
      ],
      "execution_count": 25,
      "outputs": []
    },
    {
      "cell_type": "code",
      "metadata": {
        "id": "7d3KxiHO_0gb"
      },
      "source": [
        "'''\n",
        "# Create a DefaultTrainer using the above config and train the model\n",
        "# TODO: approx 5 lines\n",
        "'''\n",
        "#trainer = DefaultTrainer(cfg) \n",
        "trainer = MyTrainer(cfg)\n",
        "trainer.resume_or_load(resume=False)\n",
        "trainer.train()\n"
      ],
      "execution_count": null,
      "outputs": []
    },
    {
      "cell_type": "markdown",
      "metadata": {
        "id": "fRVEiICco3SV"
      },
      "source": [
        "### Evaluation and Visualization"
      ]
    },
    {
      "cell_type": "code",
      "metadata": {
        "id": "VYCIXdMZvDYL"
      },
      "source": [
        "'''\n",
        "# After training the model, you need to update cfg.MODEL.WEIGHTS\n",
        "# Define a DefaultPredictor\n",
        "'''\n",
        "# Inference should use the config with parameters that are used in training\n",
        "# cfg now already contains everything we've set previously. We changed it a little bit for inference:\n",
        "cfg.MODEL.WEIGHTS = os.path.join(cfg.OUTPUT_DIR, \"model_final.pth\")  # path to the model we just trained\n",
        "cfg.MODEL.ROI_HEADS.SCORE_THRESH_TEST = 0.6   # set a custom testing threshold\n",
        "predictor_detector = DefaultPredictor(cfg)\n",
        "\n",
        "\n"
      ],
      "execution_count": 22,
      "outputs": []
    },
    {
      "cell_type": "code",
      "metadata": {
        "id": "_qocUaN6c72Z"
      },
      "source": [
        ""
      ],
      "execution_count": null,
      "outputs": []
    },
    {
      "cell_type": "code",
      "metadata": {
        "id": "_hRCf86KGi5v"
      },
      "source": [
        "'''\n",
        "# Visualize the output for 3 random test samples\n",
        "# TODO: approx 10 lines\n",
        "'''\n",
        "from detectron2.utils.visualizer import ColorMode\n",
        "# load test data\n",
        "dataset_dicts_test = get_detection_data(\"test\")\n",
        "\n",
        "for d in [dataset_dicts_test[10]]:    \n",
        "    im = cv2.imread(d[\"file_name\"])\n",
        "    outputs = predictor_detector(im)  # format is documented at https://detectron2.readthedocs.io/tutorials/models.html#model-output-format\n",
        "    v = Visualizer(im[:, :, ::-1],\n",
        "                   metadata= plane_test_meta, \n",
        "                   scale=0.4, \n",
        "                   instance_mode=ColorMode.IMAGE_BW   # remove the colors of unsegmented pixels. This option is only available for segmentation models\n",
        "    )\n",
        "    out = v.draw_instance_predictions(outputs[\"instances\"].to(\"cpu\"))\n",
        "    cv2_imshow(out.get_image()[:, :, ::-1])\n",
        "    # for b in outputs['instances'].pred_boxes:\n"
      ],
      "execution_count": null,
      "outputs": []
    },
    {
      "cell_type": "code",
      "metadata": {
        "id": "D0wRdlcKo6BD"
      },
      "source": [
        "'''\n",
        "# Use COCOEvaluator and build_detection_test_loader\n",
        "# You can save the output predictions using inference_on_dataset\n",
        "# TODO: approx 5 lines\n",
        "'''\n",
        "from detectron2.evaluation import COCOEvaluator, inference_on_dataset\n",
        "from detectron2.data import build_detection_test_loader\n",
        "evaluator = COCOEvaluator(\"data_detection_train\", cfg, False, output_dir=\"./output/\")\n",
        "#evaluator = COCOEvaluator(\"data_detection_train\", (\"bbox\", \"segm\"), False, output_dir=\"./output/\")\n",
        "val_loader = build_detection_test_loader(cfg, \"data_detection_train\")\n",
        "print(inference_on_dataset(trainer.model, val_loader, evaluator))\n",
        "\n"
      ],
      "execution_count": null,
      "outputs": []
    },
    {
      "cell_type": "markdown",
      "metadata": {
        "id": "EwYvbwcjpKBk"
      },
      "source": [
        "### Improvements\n",
        "\n",
        "For this part, you can bring any improvement which you have by adding new input parameters to the previous functions or defining new functions and variables."
      ]
    },
    {
      "cell_type": "code",
      "metadata": {
        "colab": {
          "base_uri": "https://localhost:8080/",
          "height": 35
        },
        "id": "xdR6KbCZpOlk",
        "outputId": "776b2e16-5b36-47b2-b77c-478cf72a889b"
      },
      "source": [
        "'''\n",
        "# Bring any changes and updates regarding the improvement in here\n",
        "'''\n",
        "# try other method\n",
        "\n",
        "# use pretrained model\n",
        "\n",
        "#data augmentaton\n",
        "#before augmentation  IOU around 50%\n",
        "\n",
        "#Data processing\n",
        "\n"
      ],
      "execution_count": null,
      "outputs": [
        {
          "output_type": "execute_result",
          "data": {
            "application/vnd.google.colaboratory.intrinsic+json": {
              "type": "string"
            },
            "text/plain": [
              "'\\n# Bring any changes and updates regarding the improvement in here\\n'"
            ]
          },
          "metadata": {
            "tags": []
          },
          "execution_count": 1
        }
      ]
    },
    {
      "cell_type": "markdown",
      "metadata": {
        "id": "98_M4TooqSs2"
      },
      "source": [
        "## Part 2: Semantic Segmentation"
      ]
    },
    {
      "cell_type": "markdown",
      "metadata": {
        "id": "ByAEsMtIPLrO"
      },
      "source": [
        "### Data Loader"
      ]
    },
    {
      "cell_type": "code",
      "metadata": {
        "id": "lQ-XjVDobSTu"
      },
      "source": [
        "from detectron2.utils.visualizer import GenericMask\r\n"
      ],
      "execution_count": null,
      "outputs": []
    },
    {
      "cell_type": "code",
      "metadata": {
        "id": "peQ95zLuIpkk"
      },
      "source": [
        "'''\n",
        "# Write a function that returns the cropped image and corresponding mask regarding the target bounding box\n",
        "# idx is the index of the target bbox in the data\n",
        "# high-resolution image could be passed or could be load from data['file_name']\n",
        "# You can use the mask attribute of detectron2.utils.visualizer.GenericMask \n",
        "#     to convert the segmentation annotations to binary masks\n",
        "# TODO: approx 10 lines\n",
        "'''\n",
        "from  detectron2.utils.visualizer import GenericMask\n",
        "import matplotlib.pyplot as plt\n",
        "def get_instance_sample(data, idx, orig_img=None):\n",
        "  # get image from data\n",
        "  image_path = data['file_name']\n",
        "  im_h, im_w= data['height'], data['width']\n",
        "\n",
        "  # get segmentation data\n",
        "  segmenation = data['annotations'][idx]['segmentation']\n",
        "  b_x, b_y, b_w, b_h = data['annotations'][idx]['bbox']\n",
        "\n",
        "  #print(segmenation)\n",
        "  # convert segmentaton data to binary masks\n",
        "\n",
        "  #print(\"height, width\",im_h, im_w)\n",
        "  full_mask = GenericMask(segmenation, im_h, im_w)\n",
        "  #print(full_mask.mask)\n",
        "  obj_mask = np.array(full_mask.mask)\n",
        "  #print(\"---\",(obj_mask))\n",
        "\n",
        "  # crop image according to the size of target  box\n",
        "  #full_im = Image.open(image_path)  #[:,:,::-1]\n",
        "  obj_img = orig_img[round(b_y):round(b_y+b_h), round(b_x):round(b_x+b_w)]\n",
        "  #obj_img = np.array(obj_img)\n",
        "\n",
        "  obj_mask = obj_mask[round(b_y):round(b_y+b_h), round(b_x):round(b_x+b_w)]\n",
        "  \n",
        "  #plt.imshow(obj_mask)\n",
        "  #obj_img.show()\n",
        "  #cv2_imshow(np.array(obj_img)[:,:,::-1])\n",
        "  \n",
        "  return obj_img, obj_mask"
      ],
      "execution_count": 48,
      "outputs": []
    },
    {
      "cell_type": "code",
      "metadata": {
        "id": "sxrc9X_pjzj-"
      },
      "source": [
        "'''\n",
        "# We have provided a template data loader for your segmentation training\n",
        "# You need to complete the __getitem__() function before running the code\n",
        "# You may also need to add data augmentation or normalization in here\n",
        "'''\n",
        "class PlaneDataset(Dataset):\n",
        "  def __init__(self, set_name, data_list):\n",
        "      self.transforms = transforms.Compose([         \n",
        "          # Converting the image to tensor and change the image format (Channels-Last => Channels-First)\n",
        "          transforms.ToTensor(),\n",
        "          # normalization \n",
        "          #transforms.Normalize((.5,.5,.5),(.5,.5,.5))  \n",
        "      ])\n",
        "\n",
        "      self.set_name = set_name\n",
        "      #self.data = data_list\n",
        "      #---------------------------back to full when train----\n",
        "      self.data = data_list   #[:50]\n",
        "      self.instance_map = []\n",
        "      self.img_dict = {}\n",
        "      for i, d in enumerate(self.data):\n",
        "        for j in range(len(d['annotations'])):\n",
        "          self.instance_map.append([i,j])          \n",
        "        self.img_dict[d['file_name']] = cv2.imread(d['file_name'])\n",
        "      print(\"total_image_number\", len(self.data))\n",
        "      #store images data, avoid reading drive frequentl\n",
        "      \n",
        "\n",
        "  '''\n",
        "  # you can change the value of length to a small number like 10 for debugging of your training procedure and overfeating\n",
        "  # make sure to use the correct length for the final training\n",
        "  '''\n",
        "  def __len__(self):\n",
        "      return len(self.instance_map)\n",
        "\n",
        "  def numpy_to_tensor(self, img, mask):\n",
        "    if self.transforms is not None:\n",
        "        img = self.transforms(img)\n",
        "        #print(\"after trans-----\", torch.sum(img))\n",
        "    img = torch.tensor(img, dtype=torch.float)\n",
        "    mask = torch.tensor(mask, dtype=torch.float)\n",
        "    return img, mask\n",
        "\n",
        "  '''\n",
        "  # Complete this part by using get_instance_sample function\n",
        "  # make sure to resize the img and mask to a fixed size (for example 128*128)\n",
        "  # you can use \"interpolate\" function of pytorch or \"numpy.resize\"\n",
        "  # TODO: 5 lines\n",
        "  '''\n",
        "  def __getitem__(self, idx):\n",
        "    if torch.is_tensor(idx):\n",
        "        idx = idx.tolist()\n",
        "    #print(idx, self.instance_map[idx])\n",
        "\n",
        "    idx = self.instance_map[idx]\n",
        "    data = self.data[idx[0]]\n",
        "    \n",
        "    # create self.img_dict save images read from drive\n",
        "    #check if image data in dict, if not then append, reduce frequency of reading imagre from drive\n",
        "    # orig_img= []\n",
        "    image_path = data['file_name']\n",
        "    orig_img = self.img_dict[image_path]      \n",
        "    # get instance from data\n",
        "    img, mask =  get_instance_sample(data, idx[1], orig_img)\n",
        "\n",
        "    #resize image and mask to fix size \n",
        "    img =  cv2.resize(img, (128,128))\n",
        "    # use Image resize, then convert back to np.array\n",
        "    #mask = mask.resize((128,128))\n",
        "    mask = np.array(Image.fromarray(mask).resize((128,128)))\n",
        "\n",
        "    # convert numpy to tensor\n",
        "    img, mask = self.numpy_to_tensor( np.array(img), mask)\n",
        "    #print(\"Aftter ----input image =mask== name ---\", img.size(), mask.size(), image_path)\n",
        "    return img, mask\n",
        "\n",
        "def get_plane_dataset(set_name='train', batch_size=2):\n",
        "    my_data_list = DatasetCatalog.get(\"data_detection_{}\".format(set_name))\n",
        "    dataset = PlaneDataset(set_name, my_data_list)\n",
        "    loader = DataLoader(dataset, batch_size=batch_size, num_workers=4,\n",
        "                                              pin_memory=True, shuffle=True)\n",
        "    return loader, dataset"
      ],
      "execution_count": 49,
      "outputs": []
    },
    {
      "cell_type": "markdown",
      "metadata": {
        "id": "1jQVp6mXKQQt"
      },
      "source": [
        "## load data"
      ]
    },
    {
      "cell_type": "markdown",
      "metadata": {
        "id": "m6eH3NKaQQfc"
      },
      "source": [
        "### Network"
      ]
    },
    {
      "cell_type": "code",
      "metadata": {
        "id": "PeqR3s3dSBPN"
      },
      "source": [
        "'''\n",
        "# convolution module as a template layer consists of conv2d layer, batch normalization, and relu activation\n",
        "'''\n",
        "class conv(nn.Module):\n",
        "    def __init__(self, in_ch, out_ch, activation=True):\n",
        "        super(conv, self).__init__()\n",
        "        if(activation):\n",
        "          self.layer = nn.Sequential(\n",
        "             nn.Conv2d(in_ch, out_ch, 3, padding=1),\n",
        "             nn.BatchNorm2d(out_ch),\n",
        "             nn.ReLU(inplace=True)\n",
        "          )\n",
        "        else:\n",
        "          self.layer = nn.Sequential(\n",
        "             nn.Conv2d(in_ch, out_ch, 3, padding=1)  \n",
        "             )\n",
        "\n",
        "    def forward(self, x):\n",
        "        x = self.layer(x)\n",
        "        return x\n",
        "\n",
        "'''\n",
        "# downsampling module equal to a conv module followed by a max-pool layer\n",
        "'''\n",
        "class down(nn.Module):\n",
        "    def __init__(self, in_ch, out_ch):\n",
        "        super(down, self).__init__()\n",
        "        self.layer = nn.Sequential(\n",
        "            conv(in_ch, out_ch),\n",
        "            conv(out_ch, out_ch),\n",
        "            nn.MaxPool2d(2)\n",
        "            )\n",
        "\n",
        "    def forward(self, x):\n",
        "        x = self.layer(x)\n",
        "        return x\n",
        "\n",
        "'''\n",
        "# upsampling module equal to a upsample function followed by a conv module\n",
        "'''\n",
        "class up(nn.Module):\n",
        "    def __init__(self, in_ch, out_ch, bilinear=False):\n",
        "        super(up, self).__init__()\n",
        "        if bilinear:\n",
        "            self.up = nn.Upsample(scale_factor=2, mode='bilinear', align_corners=True)\n",
        "        else:\n",
        "            self.up = nn.ConvTranspose2d(in_ch, in_ch, 2, stride=2)\n",
        "\n",
        "        self.conv1 = conv(in_ch, out_ch)\n",
        "        self.conv2 = conv(out_ch, out_ch)\n",
        "\n",
        "    def forward(self, x):\n",
        "        y = self.up(x)\n",
        "        y = self.conv1(y)\n",
        "        y = self.conv2(y)\n",
        "        return y\n",
        "\n",
        "'''\n",
        "# the main model which you need to complete by using above modules.\n",
        "# you can also modify the above modules in order to improve your results.\n",
        "'''\n",
        "class MyModel(nn.Module):\n",
        "    def __init__(self):\n",
        "        super(MyModel, self).__init__()\n",
        "        \n",
        "        # 1. increase to 4 layers\n",
        "        # 2. skip connection\n",
        "        # Encoder\n",
        "        self.input_conv = conv(3, 16)\n",
        "        self.down1 = down(16,32)\n",
        "        self.down2 = down(32,64)\n",
        "        self.down3 = down(64, 128)\n",
        "        self.down4 = down(128, 256)\n",
        "        \n",
        "\n",
        "        # Decoder\n",
        "        self.up1 = up(256, 128)\n",
        "        self.up2 = up(128, 64)\n",
        "        self.up3 = up(64, 32)\n",
        "        self.up4 = up(32, 16)\n",
        "\n",
        "        self.output_conv = conv(16, 1, False) # ReLu activation is removed to keep the logits for the loss function\n",
        "        \n",
        "\n",
        "    def forward(self, input):\n",
        "      y = self.input_conv(input) #3->16\n",
        "      #pre1 = y\n",
        "      y = self.down1(y) # 16->32\n",
        "     # pre2 = y\n",
        "      y = self.down2(y) #32->64\n",
        "      #pre3 = y   \n",
        "      y = self.down3(y)  #64->128\n",
        "      #pre4 =y\n",
        "      y = self.down4(y)  #128->256\n",
        "\n",
        "      y = self.up1(y)    #256->128\n",
        "      y = self.up2(y)\n",
        "      y = self.up3(y)\n",
        "      y = self.up4(y)\n",
        "\n",
        "      output = self.output_conv(y)\n",
        "      return output"
      ],
      "execution_count": 20,
      "outputs": []
    },
    {
      "cell_type": "markdown",
      "metadata": {
        "id": "rQj86vD9QT_Z"
      },
      "source": [
        "### Training"
      ]
    },
    {
      "cell_type": "code",
      "metadata": {
        "colab": {
          "base_uri": "https://localhost:8080/"
        },
        "id": "MaZuO4SKSBuF",
        "outputId": "ccdb49f4-5305-4be3-cbc0-3b8c39ba4245"
      },
      "source": [
        "'''\n",
        "# The following is a basic training procedure to train the network\n",
        "# You need to update the code to get the best performance\n",
        "# TODO: approx ? lines\n",
        "'''\n",
        "\n",
        "\n",
        "batch_size = 4\n",
        "# model = MyModel() # initialize the model\n",
        "# model = model.cuda() # move the model to GPU\n",
        "print(\"start loader\")\n",
        "loader, _ = get_plane_dataset('train', batch_size) # initialize data_loader\n",
        "print(\"finish--loader\")\n",
        "\n"
      ],
      "execution_count": null,
      "outputs": [
        {
          "output_type": "stream",
          "text": [
            "start loader\n",
            "total_image_number 198\n",
            "finish--loader\n"
          ],
          "name": "stdout"
        }
      ]
    },
    {
      "cell_type": "code",
      "metadata": {
        "id": "hMTngabNKrMX"
      },
      "source": [
        "# Set the hyperparameters\r\n",
        "num_epochs = 5\r\n",
        "batch_size = 4\r\n",
        "learning_rate = 0.001\r\n",
        "weight_decay = 1e-4\r\n",
        "\r\n",
        "model = MyModel() # initialize the model\r\n",
        "model = model.cuda() # move the model to GPU\r\n",
        "crit = nn.BCEWithLogitsLoss() # Define the loss function\r\n",
        "#crit = nn.CrossEntropyLoss() # Define the loss function\r\n",
        "model.load_state_dict(torch.load('{}/output/final_segmentation_model.pth'.format(BASE_DIR)))\r\n",
        "\r\n",
        "#++++++======================== try adm optimizer and different learning_rate\r\n",
        "#optim = torch.optim.SGD(model.parameters(), lr=learning_rate, weight_decay=weight_decay) # Initialize the optimizer as SGD\r\n",
        "optim = torch.optim.Adam(model.parameters(), lr= 0.0002)\r\n",
        "\r\n",
        "# start the training procedure\r\n",
        "for epoch in range(num_epochs):\r\n",
        "  total_loss = 0\r\n",
        "  for (img, mask) in tqdm(loader):\r\n",
        "    #print( np.sum(np.array(img)<0))\r\n",
        "    img = torch.tensor(img, device=torch.device('cuda'), requires_grad = True)\r\n",
        "    mask = torch.tensor(mask, device=torch.device('cuda'), requires_grad = False)  \r\n",
        "\r\n",
        "    mask = torch.unsqueeze(mask, 1)  # (4,128,128) -> (4,1,128,128)\r\n",
        "    pred = model(img)\r\n",
        "    loss = crit(pred, mask)\r\n",
        "    optim.zero_grad()\r\n",
        "    loss.backward()\r\n",
        "    optim.step()\r\n",
        "    total_loss += loss.cpu().data\r\n",
        "  print(\"Epoch: {}, Loss: {}\".format(epoch, total_loss/len(loader)))\r\n",
        "  torch.save(model.state_dict(), '{}/output/{}_segmentation_model.pth'.format(BASE_DIR, epoch))\r\n",
        "\r\n",
        "'''\r\n",
        "# Saving the final model\r\n",
        "'''\r\n",
        "torch.save(model.state_dict(), '{}/output/final_segmentation_model.pth'.format(BASE_DIR))\r\n"
      ],
      "execution_count": null,
      "outputs": []
    },
    {
      "cell_type": "markdown",
      "metadata": {
        "id": "0dyez1fyQYw7"
      },
      "source": [
        "### Evaluation and Visualization"
      ]
    },
    {
      "cell_type": "code",
      "metadata": {
        "id": "TDeViryUSCL2"
      },
      "source": [
        "'''\n",
        "# Before starting the evaluation, you need to set the model mode to eval\n",
        "# You may load the trained model again, in case if you want to continue your code later\n",
        "# TODO: approx 15 lines\n",
        "'''\n",
        "batch_size = 8\n",
        "model = MyModel().cuda()\n",
        "model.load_state_dict(torch.load('{}/output/final_segmentation_model.pth'.format(BASE_DIR)))\n",
        "model = model.eval() # chaning the model to evaluation mode will fix the bachnorm layers\n",
        "#loader, dataset = get_plane_dataset('train', batch_size)\n",
        "#loader  already got\n",
        "\n",
        "threshold = 0.5\n",
        "total_iou = 0\n",
        "for (img, mask) in tqdm(loader):\n",
        "  with torch.no_grad():\n",
        "    img = img.cuda()\n",
        "    mask = mask.cuda()\n",
        "    mask = torch.unsqueeze(mask,1)\n",
        "    pred = model(img)\n",
        "    #conver values to [0 , 1]\n",
        "    pred = torch.sigmoid(pred)\n",
        "    pre_np = torch.squeeze(pred,1).cpu().numpy()\n",
        "    m_np = torch.squeeze(mask,1).cpu().numpy()\n",
        "\n",
        "    '''\n",
        "    ## Complete the code by obtaining the IoU for each img and print the final Mean IoU\n",
        "    '''\n",
        "    b_size = pre_np.shape[0]\n",
        "    pred_m = pred > threshold\n",
        "    i_mask = np.sum(pre_np*m_np, axis= (1,2))\n",
        "    u_mask = np.sum((pre_np + m_np - pre_np*m_np), axis= (1,2))\n",
        "    #print(i_mask.shape)\n",
        "    iou = i_mask/u_mask\n",
        "    #print(\"iou---\",iou)\n",
        "    avg_iou = np.sum(iou)/b_size\n",
        "\n",
        "    total_iou += avg_iou\n",
        "\n",
        "print(\"\\n #images: {}, Mean IoU: {}\".format(\"plane\", total_iou/len(loader)))\n"
      ],
      "execution_count": null,
      "outputs": []
    },
    {
      "cell_type": "code",
      "metadata": {
        "id": "RgzhxwDkgEFG"
      },
      "source": [
        ""
      ],
      "execution_count": null,
      "outputs": []
    },
    {
      "cell_type": "code",
      "metadata": {
        "colab": {
          "base_uri": "https://localhost:8080/"
        },
        "id": "XF7XbuFd9suZ",
        "outputId": "2745225a-4397-4ee3-e72c-f80c8f7c07d3"
      },
      "source": [
        "# test_im_path = os.path.join(BASE_DIR , \"data/train/P1741.png\")\r\n",
        "# test_img = Image.open(test_im_path)\r\n",
        "# print(np.array(test_img).shape)\r\n",
        "model = MyModel() # initialize the model\r\n",
        "model = model.cuda()\r\n",
        "model.load_state_dict(torch.load('{}/output/final_segmentation_model.pth'.format(BASE_DIR)))"
      ],
      "execution_count": 51,
      "outputs": [
        {
          "output_type": "execute_result",
          "data": {
            "text/plain": [
              "<All keys matched successfully>"
            ]
          },
          "metadata": {
            "tags": []
          },
          "execution_count": 51
        }
      ]
    },
    {
      "cell_type": "code",
      "metadata": {
        "id": "jbmTj9JICiKz"
      },
      "source": [
        "'''\n",
        "# Visualize 3 sample outputs\n",
        "# TODO: approx 5 lines\n",
        "'''\n",
        "#  \"test \" get_plane_dataset\n",
        "# crop plane from 3 sample in test_data\n",
        "threshold = 0.5\n",
        "test_im_path = os.path.join(BASE_DIR , \"data/test/P0257.png\")\n",
        "test_img = Image.open(test_im_path)\n",
        "test_img.show()\n",
        "crop1 = np.array(test_img.crop((688,443,788,523)).resize((128,128)))\n",
        "crop2 = np.array(test_img.crop((390,823,440,873)).resize((128,128)))\n",
        "crop3 = np.array(test_img.crop((300,1254,355,1310)).resize((128,128)))\n",
        "\n",
        "transform = transforms.Compose([ transforms.ToTensor()])\n",
        "\n",
        "#dataset = transform(np.array[crop1, crop2, crop3])\n",
        "samples = [ crop1, crop2, crop3 ]\n",
        "model = model.eval()\n",
        "for img in samples:\n",
        "  with torch.no_grad():\n",
        "    input = transform(img)\n",
        "    input = input.view(1,3,128,128)\n",
        "    input = input.cuda()\n",
        "    pred = model(input)\n",
        "    #print(pred.size())\n",
        "    plt.subplot(1,2,1)\n",
        "    pred_mask = np.array(pred.cpu().view(128,128))>threshold\n",
        "    plt.imshow(pred_mask)\n",
        "    plt.subplot(1,2,2)\n",
        "    pred_mask = np.reshape(pred_mask,(128,128,1))\n",
        "    pred_mask = np.concatenate((pred_mask,pred_mask,pred_mask),2)\n",
        "    plt.imshow(np.multiply(img,pred_mask))\n",
        "    plt.show()\n",
        "    # cv2_imshow( pred.cpu().reshape(128,128).numpy() )\n",
        "    # cv2_imshow( pred.cpu().reshape(128,128).numpy()* im.numpy())\n"
      ],
      "execution_count": null,
      "outputs": []
    },
    {
      "cell_type": "markdown",
      "metadata": {
        "id": "navoiGdrqaZT"
      },
      "source": [
        "## Part 3: Instance Segmentation\n",
        "\n",
        "In this part, you need to obtain the instance segmentation results for the test data by using the trained segmentation model in the previous part and the detection model in Part 1."
      ]
    },
    {
      "cell_type": "markdown",
      "metadata": {
        "id": "vBwk33DGBowP"
      },
      "source": [
        "### Get Prediction"
      ]
    },
    {
      "cell_type": "code",
      "metadata": {
        "id": "JkkmSE4d4jsw"
      },
      "source": [
        ""
      ],
      "execution_count": null,
      "outputs": []
    },
    {
      "cell_type": "code",
      "metadata": {
        "id": "crrZ8TG-Ot2J"
      },
      "source": [
        "'''\n",
        "# Define a new function to obtain the prediction mask by passing a sample data\n",
        "# For this part, you need to use all the previous parts (predictor, get_instance_sample, data preprocessings, etc)\n",
        "# It is better to keep everything (as well as the output of this funcion) on gpu as tensors to speed up the operations.\n",
        "# pred_mask is the instance segmentation result and should have different values for different planes.\n",
        "# TODO: approx 35 lines\n",
        "'''\n",
        "\n",
        "def get_prediction_mask(data):  # data is a record of sample image with annotations\n",
        "   # get information from data\n",
        "   width = data[\"width\"]\n",
        "   height = data[\"height\"]\n",
        "   annotations = []\n",
        "   if 'annotations' in data.keys():\n",
        "      annotations = data['annotations']\n",
        "\n",
        "   #default predictor tak BRG data for input\n",
        "   img = cv2.imread(data[\"file_name\"])\n",
        "   #im = Image.open(data[\"file_name\"])\n",
        "   #Use predictor from Part1 to detect bboxes\n",
        "   detoctor_data  =  predictor_detector(img)\n",
        "   instances = detoctor_data[\"instances\"]\n",
        "   #print(instances)\n",
        "   # get bbox - list[tensor]\n",
        "   boxes = instances.pred_boxes\n",
        "\n",
        "   #initialize image_mask\n",
        "   pre_mask_all = np.zeros((height,width))\n",
        "   gt_mask = np.zeros((height,width))\n",
        "   \n",
        "   #print(\"dectected box:\",len(boxes))\n",
        "\n",
        "   for idx,box in enumerate(boxes):\n",
        "        #location_box, size_box \n",
        "        location = box.cpu().numpy().astype(int)\n",
        "        x1,y1,x2,y2 = list(location)  \n",
        "        b_w = x2 - x1\n",
        "        b_h = y2 - y1\n",
        "        #print(\"box size\", b_w, b_h)\n",
        "        #print(\"box location\", x1,y1,x2,y2)\n",
        "        \n",
        "        # get input by cropping from test image\n",
        "        crop_im = img[y1:y2, x1:x2,:]\n",
        "        crop_im = np.array(cv2.resize(crop_im,(128,128)))\n",
        "\n",
        "        transform = transforms.Compose([ transforms.ToTensor(),transforms.Normalize((0,0,0),(1,1,1))])    \n",
        "        crop_input = transform(crop_im).view(1,3,128,128)\n",
        "        \n",
        "        #pridict mask\n",
        "        with torch.no_grad():\n",
        "          pred_mask = model(crop_input.cuda())\n",
        "\n",
        "        #draw the pred_mask on orignal image  using  location and size of box\n",
        "        #conver to [0 , 1]\n",
        "        pred_mask = torch.sigmoid(pred_mask)\n",
        "        #convert to numpy ndarray and binarize\n",
        "        pred_mask = np.array(pred_mask.view(128,128).cpu())\n",
        "        recon_mask = np.array(Image.fromarray(pred_mask).resize((b_w,b_h)))>threshold\n",
        "        #recon_mask = pred_mask.resize((b_h,b_w))\n",
        "        # plt.imshow(recon_mask)\n",
        "        # plt.show()\n",
        "\n",
        "        #replace detected box on the original image, seperate value mask for different instance\n",
        "        pre_mask_all[y1:y2,x1:x2] = recon_mask * (idx+1)\n",
        "        \n",
        "   # get ground true segementation \n",
        "\n",
        "   #gt_obj, gt_mask = get_instance_sample(data, idx, im)\n",
        "   #orginize segementaion list , then use \"Genemask\" to convert binary mask\n",
        "   segmentation_all = []\n",
        "   for ann in annotations:\n",
        "     segmentation_all.append(ann['segmentation'][0])\n",
        "   if segmentation_all:\n",
        "     gt_mask = GenericMask(segmentation_all, height, width).mask    \n",
        "\n",
        "   return img, gt_mask, pre_mask_all # gt_mask could be all zero when the ground truth is not given.\n"
      ],
      "execution_count": 54,
      "outputs": []
    },
    {
      "cell_type": "markdown",
      "metadata": {
        "id": "fc7TSK6EBi9u"
      },
      "source": [
        "### Visualization and Submission"
      ]
    },
    {
      "cell_type": "code",
      "metadata": {
        "id": "H7T2YX8MBiGO"
      },
      "source": [
        "'''\n",
        "# Visualise the output prediction as well as the GT Mask and Input image for a sample input\n",
        "# TODO: approx 10 lines\n",
        "'''\n",
        "my_data_list_test = DatasetCatalog.get(\"data_detection_{}\".format('test'))\n",
        "model.load_state_dict(torch.load('{}/output/final_segmentation_model.pth'.format(BASE_DIR)))\n",
        "\n",
        "model = model.eval()\n",
        "img, gt, pre_mask_all = get_prediction_mask(my_data_list_test[20])\n",
        "\n",
        "from matplotlib.pyplot import figure\n",
        "\n",
        "#print(pre_mask_all)\n",
        "figure(num=None, figsize=(15, 15), dpi=80, facecolor='w', edgecolor='k')\n",
        "plt.imshow(pre_mask_all)\n",
        "plt.show()\n",
        "#cv2_imshow(pre_mask_all*255)\n",
        "# print(np.sum(pre_mask_all<0))\n",
        "figure(num=None, figsize=(15, 15), dpi=80, facecolor='w', edgecolor='k')\n",
        "plt.imshow(img)\n",
        "plt.show()\n",
        "\n"
      ],
      "execution_count": null,
      "outputs": []
    },
    {
      "cell_type": "code",
      "metadata": {
        "id": "uPo_03up-g_f"
      },
      "source": [
        "'''\n",
        "# ref: https://www.kaggle.com/rakhlin/fast-run-length-encoding-python\n",
        "# https://www.kaggle.com/c/airbus-ship-detection/overview/evaluation\n",
        "'''\n",
        "def rle_encoding(x):\n",
        "    '''\n",
        "    x: pytorch tensor on gpu, 1 - mask, 0 - background\n",
        "    Returns run length as list\n",
        "    '''\n",
        "    dots = torch.where(torch.flatten(x.long())==1)[0]\n",
        "    if(len(dots)==0):\n",
        "      return []\n",
        "    inds = torch.where(dots[1:]!=dots[:-1]+1)[0]+1\n",
        "    inds = torch.cat((torch.tensor([0], device=torch.device('cuda'), dtype=torch.long), inds))\n",
        "    tmpdots = dots[inds]\n",
        "    inds = torch.cat((inds, torch.tensor([len(dots)], device=torch.device('cuda'))))\n",
        "    inds = inds[1:] - inds[:-1]\n",
        "    runs = torch.cat((tmpdots, inds)).reshape((2,-1))\n",
        "    runs = torch.flatten(torch.transpose(runs, 0, 1)).cpu().data.numpy()\n",
        "    return ' '.join([str(i) for i in runs])"
      ],
      "execution_count": 55,
      "outputs": []
    },
    {
      "cell_type": "code",
      "metadata": {
        "id": "zv0rab2LJev-"
      },
      "source": [
        "'''\n",
        "# You need to upload the csv file on kaggle\n",
        "# The speed of your code in the previous parts highly affects the running time of this part\n",
        "'''\n",
        "\n",
        "preddic = {\"ImageId\": [], \"EncodedPixels\": []}\n",
        "\n",
        "'''\n",
        "# Writing the predictions of the training set\n",
        "'''\n",
        "import time\n",
        "print(\"start genrating train csv\")\n",
        "s = time.time()\n",
        "my_data_list = DatasetCatalog.get(\"data_detection_{}\".format('train'))\n",
        "for i in tqdm(range(len(my_data_list)), position=0, leave=True):\n",
        "  sample = my_data_list[i]\n",
        "  sample['image_id'] = sample['file_name'].split(\"/\")[-1][:-4]\n",
        "  img, true_mask, pred_mask = get_prediction_mask(sample)\n",
        "  pred_mask = torch.from_numpy(pred_mask).cuda().long()\n",
        "  #print(pred_mask)\n",
        "  inds = torch.unique(pred_mask)\n",
        "  if(len(inds)==1):\n",
        "    preddic['ImageId'].append(sample['image_id'])\n",
        "    preddic['EncodedPixels'].append([])\n",
        "  else:\n",
        "    for index in inds:\n",
        "      if(index == 0):\n",
        "        continue\n",
        "      tmp_mask = (pred_mask==index)\n",
        "      #print(\"type \", type(tmp_mask))\n",
        "      encPix = rle_encoding(tmp_mask)\n",
        "      preddic['ImageId'].append(sample['image_id'])\n",
        "      preddic['EncodedPixels'].append(encPix)\n",
        "print(\"end train csv, execution time\", time.time()-s)\n",
        "\n"
      ],
      "execution_count": null,
      "outputs": []
    },
    {
      "cell_type": "code",
      "metadata": {
        "id": "07JrHRZ9pnId"
      },
      "source": [
        "'''\r\n",
        "# Writing the predictions of the test set\r\n",
        "'''\r\n",
        "s = time.time()\r\n",
        "print(\"start genrating test csv\")\r\n",
        "my_data_list = DatasetCatalog.get(\"data_detection_{}\".format('test'))\r\n",
        "for i in tqdm(range(len(my_data_list)), position=0, leave=True):\r\n",
        "  sample = my_data_list[i]\r\n",
        "  sample['image_id'] = sample['file_name'].split(\"/\")[-1][:-4]\r\n",
        "  img, true_mask, pred_mask = get_prediction_mask(sample)\r\n",
        "  pred_mask= torch.from_numpy(pred_mask).cuda().long()\r\n",
        "  inds = torch.unique(pred_mask)\r\n",
        "  if(len(inds)==1):\r\n",
        "    preddic['ImageId'].append(sample['image_id'])\r\n",
        "    preddic['EncodedPixels'].append([])\r\n",
        "  else:\r\n",
        "    for j, index in enumerate(inds):\r\n",
        "      if(index == 0):\r\n",
        "        continue\r\n",
        "      tmp_mask = (pred_mask==index).double()\r\n",
        "      \r\n",
        "      encPix = rle_encoding(tmp_mask)\r\n",
        "      preddic['ImageId'].append(sample['image_id'])\r\n",
        "      preddic['EncodedPixels'].append(encPix)\r\n",
        "\r\n",
        "pred_file = open(\"{}/pred.csv\".format(BASE_DIR), 'w')\r\n",
        "pd.DataFrame(preddic).to_csv(pred_file, index=False)\r\n",
        "pred_file.close()\r\n",
        "print(\"end test csv, execution time\", time.time()-s)"
      ],
      "execution_count": null,
      "outputs": []
    },
    {
      "cell_type": "markdown",
      "metadata": {
        "id": "p7nN4SduqrpI"
      },
      "source": [
        "## Part 4: Mask R-CNN\n",
        "\n",
        "For this part you need to follow a same procedure to part 2 with the configs of Mask R-CNN, other parts are generally the same as part 2."
      ]
    },
    {
      "cell_type": "markdown",
      "metadata": {
        "id": "axWf7drKNXYd"
      },
      "source": [
        "### Data Loader"
      ]
    },
    {
      "cell_type": "code",
      "metadata": {
        "id": "yC1FDCcQN2LH"
      },
      "source": [
        ""
      ],
      "execution_count": null,
      "outputs": []
    },
    {
      "cell_type": "markdown",
      "metadata": {
        "id": "lG5slAhQNjE7"
      },
      "source": [
        "### Network"
      ]
    },
    {
      "cell_type": "code",
      "metadata": {
        "id": "KG1pnKLMOcjS"
      },
      "source": [
        "'''\r\n",
        "# Set the configs for the detection part in here.\r\n",
        "# TODO: approx 15 lines\r\n",
        "'''\r\n",
        "cfg_m = get_cfg()\r\n",
        "cfg_m.OUTPUT_DIR = \"{}/output2/\".format(BASE_DIR)\r\n",
        "\r\n",
        "\r\n",
        "cfg_m.merge_from_file(model_zoo.get_config_file(\"COCO-InstanceSegmentation/mask_rcnn_R_50_FPN_3x.yaml\"))\r\n",
        "#COCO-Detection/faster_rcnn_X_101_32x8d_FPN_3x.yaml    350-38.096%\r\n",
        "#\"COCO-Detection/faster_rcnn_R_101_FPN_3x.yaml\" -- 700-54.5%\r\n",
        "\r\n",
        "cfg_m.DATASETS.TRAIN = (\"data_detection_train\",)\r\n",
        "cfg_m.DATASETS.TEST = ()\r\n",
        "\r\n",
        "cfg_m.DATALOADER.NUM_WORKERS = 2\r\n",
        "\r\n",
        "#cfg_m.MODEL.WEIGHTS = model_zoo.get_checkpoint_url(\"COCO-InstanceSegmentation/mask_rcnn_R_50_FPN_3x.yaml\")  # Let training initialize from model zoo\r\n",
        "cfg_m.MODEL.WEIGHTS = os.path.join(cfg_m.OUTPUT_DIR, \"model_final.pth\")\r\n",
        "#COCO-Detection/faster_rcnn_R_101_FPN_3x.yaml\r\n",
        "cfg_m.SOLVER.IMS_PER_BATCH = 2\r\n",
        "cfg_m.SOLVER.BASE_LR = 0.00025  \r\n",
        "cfg_m.SOLVER.MAX_ITER = 400\r\n",
        "cfg_m.SOLVER.STEPS = [] \r\n",
        "\r\n",
        "cfg.MODEL.ROI_HEADS.BATCH_SIZE_PER_IMAGE = 512\r\n"
      ],
      "execution_count": 26,
      "outputs": []
    },
    {
      "cell_type": "markdown",
      "metadata": {
        "id": "t7ifeV1sNvtt"
      },
      "source": [
        "### Training"
      ]
    },
    {
      "cell_type": "code",
      "metadata": {
        "id": "tc4K0Nz5OeKk"
      },
      "source": [
        "'''\r\n",
        "# Create a DefaultTrainer using the above config and train the model\r\n",
        "# TODO: approx 5 lines\r\n",
        "'''\r\n",
        "import time\r\n",
        "s = time.time()\r\n",
        "trainer_mask = DefaultTrainer(cfg_m) \r\n",
        "trainer_mask.resume_or_load(resume=False)\r\n",
        "trainer_mask.train()"
      ],
      "execution_count": null,
      "outputs": []
    },
    {
      "cell_type": "markdown",
      "metadata": {
        "id": "298QruFnNxyn"
      },
      "source": [
        "### Evaluation and Visualization"
      ]
    },
    {
      "cell_type": "code",
      "metadata": {
        "id": "I30ENqUGMlAO"
      },
      "source": [
        "'''\r\n",
        "# Use COCOEvaluator and build_detection_test_loader\r\n",
        "# You can save the output predictions using inference_on_dataset\r\n",
        "# TODO: approx 5 lines\r\n",
        "'''\r\n",
        "from detectron2.evaluation import COCOEvaluator, inference_on_dataset\r\n",
        "from detectron2.data import build_detection_test_loader\r\n",
        "evaluator = COCOEvaluator(\"data_detection_train\", cfg_m, False, output_dir=\"./output/\")\r\n",
        "#evaluator = COCOEvaluator(\"data_detection_train\", (\"bbox\", \"segm\"), False, output_dir=\"./output/\")\r\n",
        "val_loader_mask = build_detection_test_loader(cfg_m, \"data_detection_train\")\r\n",
        "print(inference_on_dataset(trainer.model, val_loader_mask, evaluator))"
      ],
      "execution_count": null,
      "outputs": []
    },
    {
      "cell_type": "code",
      "metadata": {
        "id": "-3avNCVbvR4Q"
      },
      "source": [
        "'''\r\n",
        "# After training the model, you need to update cfg.MODEL.WEIGHTS\r\n",
        "# Define a DefaultPredictor\r\n",
        "'''\r\n",
        "# Inference should use the config with parameters that are used in training\r\n",
        "# cfg now already contains everything we've set previously. We changed it a little bit for inference:\r\n",
        "cfg_m.MODEL.WEIGHTS = os.path.join(cfg_m.OUTPUT_DIR, \"model_final.pth\")  # path to the model we just trained\r\n",
        "cfg_m.MODEL.ROI_HEADS.SCORE_THRESH_TEST = 0.6   # set a custom testing threshold\r\n",
        "predictor_m = DefaultPredictor(cfg_m)\r\n"
      ],
      "execution_count": 27,
      "outputs": []
    },
    {
      "cell_type": "markdown",
      "metadata": {
        "id": "zyu2At9QUDKI"
      },
      "source": [
        "## Visualize Detection"
      ]
    },
    {
      "cell_type": "code",
      "metadata": {
        "id": "GixWnIwWzdJg"
      },
      "source": [
        "'''\r\n",
        "# Visualize the output for 3 random test samples\r\n",
        "# TODO: approx 10 lines\r\n",
        "'''\r\n",
        "from detectron2.utils.visualizer import ColorMode\r\n",
        "# load test data\r\n",
        "dataset_dicts_test = get_detection_data(\"test\")\r\n",
        "\r\n",
        "for d in [dataset_dicts_test[10]]:    \r\n",
        "    im = cv2.imread(d[\"file_name\"])\r\n",
        "    outputs = predictor_m(im)  # format is documented at https://detectron2.readthedocs.io/tutorials/models.html#model-output-format\r\n",
        "    v = Visualizer(im[:, :, ::-1],\r\n",
        "                   metadata= plane_test_meta, \r\n",
        "                   scale=0.4, \r\n",
        "                   instance_mode=ColorMode.IMAGE_BW   # remove the colors of unsegmented pixels. This option is only available for segmentation models\r\n",
        "    )\r\n",
        "    out = v.draw_instance_predictions(outputs[\"instances\"].to(\"cpu\"))\r\n",
        "    cv2_imshow(out.get_image()[:, :, ::-1])\r\n",
        "    # for b in outputs['instances'].pred_boxes:"
      ],
      "execution_count": null,
      "outputs": []
    },
    {
      "cell_type": "markdown",
      "metadata": {
        "id": "-7lNqLxxT4HJ"
      },
      "source": [
        "## Visualize Detction Segmentation Mask\r\n"
      ]
    },
    {
      "cell_type": "code",
      "metadata": {
        "id": "lDRlHDxiz1nS"
      },
      "source": [
        "d = my_data_list_test[40]\r\n",
        "im = cv2.imread(d[\"file_name\"])\r\n",
        "outputs = predictor_m(im)\r\n",
        "\r\n",
        "masks = outputs['instances'].pred_masks\r\n",
        "print(masks.size()) \r\n",
        "pred_boxes = outputs['instances'].pred_boxes\r\n",
        "image_w = d['width']\r\n",
        "image_h = d['height']\r\n",
        "full_mask = np.zeros((image_h,image_w))\r\n",
        "\r\n",
        "for idx, box in enumerate(pred_boxes):\r\n",
        "    #box = pred_boxes[idx]\r\n",
        "    location = box.cpu().numpy().astype(int)\r\n",
        "    x1,y1,x2,y2 = list(location)  \r\n",
        "    b_w = x2 - x1\r\n",
        "    b_h = y2 - y1\r\n",
        "    \r\n",
        "  #replace detected box on the original image, seperate value mask for different instance\r\n",
        "    ins_mask = masks[idx].cpu().numpy()\r\n",
        "    full_mask = full_mask + ins_mask\r\n",
        "\r\n",
        "figure(figsize=(15,15))\r\n",
        "plt.imshow(full_mask)\r\n",
        "plt.show()\r\n",
        "\r\n"
      ],
      "execution_count": null,
      "outputs": []
    },
    {
      "cell_type": "markdown",
      "metadata": {
        "id": "VWmfP-NmUOkq"
      },
      "source": [
        "## Evaluation AP"
      ]
    },
    {
      "cell_type": "code",
      "metadata": {
        "colab": {
          "base_uri": "https://localhost:8080/"
        },
        "id": "l_3wS2BFLLGp",
        "outputId": "52b03ff0-6e92-4a66-90e4-20f501b6c725"
      },
      "source": [
        "'''\r\n",
        "# Use COCOEvaluator and build_detection_test_loader\r\n",
        "# You can save the output predictions using inference_on_dataset\r\n",
        "# TODO: approx 5 lines\r\n",
        "'''\r\n",
        "from detectron2.evaluation import COCOEvaluator, inference_on_dataset\r\n",
        "from detectron2.data import build_detection_test_loader\r\n",
        "evaluator = COCOEvaluator(\"data_detection_train\", cfg, False, output_dir=\"./output/\")\r\n",
        "#evaluator = COCOEvaluator(\"data_detection_train\", (\"bbox\", \"segm\"), False, output_dir=\"./output/\")\r\n",
        "val_loader = build_detection_test_loader(cfg, \"data_detection_train\")\r\n",
        "print(inference_on_dataset(trainer.model, val_loader, evaluator))"
      ],
      "execution_count": null,
      "outputs": [
        {
          "output_type": "stream",
          "text": [
            "error connecting to /tmp/tmux-0/default (No such file or directory)\n"
          ],
          "name": "stdout"
        }
      ]
    }
  ]
}